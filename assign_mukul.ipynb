{
  "nbformat": 4,
  "nbformat_minor": 0,
  "metadata": {
    "colab": {
      "name": "assign mukul",
      "provenance": [],
      "collapsed_sections": []
    },
    "kernelspec": {
      "name": "python3",
      "display_name": "Python 3"
    },
    "accelerator": "GPU"
  },
  "cells": [
    {
      "cell_type": "code",
      "metadata": {
        "id": "gxTrIwx8bDfw",
        "colab_type": "code",
        "outputId": "d4447b5a-2278-4a47-a8a1-57b1aaca804b",
        "colab": {
          "base_uri": "https://localhost:8080/",
          "height": 479
        }
      },
      "source": [
        "!pip install wget\n",
        "import wget \n",
        "! wget --no-check-certificate -r 'http://snap.stanford.edu/data/amazon/productGraph/categoryFiles/reviews_Kindle_Store_5.json.gz' -O review"
      ],
      "execution_count": 1,
      "outputs": [
        {
          "output_type": "stream",
          "text": [
            "Collecting wget\n",
            "  Downloading https://files.pythonhosted.org/packages/47/6a/62e288da7bcda82b935ff0c6cfe542970f04e29c756b0e147251b2fb251f/wget-3.2.zip\n",
            "Building wheels for collected packages: wget\n",
            "  Building wheel for wget (setup.py) ... \u001b[?25l\u001b[?25hdone\n",
            "  Created wheel for wget: filename=wget-3.2-cp36-none-any.whl size=9682 sha256=aeed8c7afc7dfddc7306aaf1df87a14a54f4d688f40d9f0d11a3e678408ed062\n",
            "  Stored in directory: /root/.cache/pip/wheels/40/15/30/7d8f7cea2902b4db79e3fea550d7d7b85ecb27ef992b618f3f\n",
            "Successfully built wget\n",
            "Installing collected packages: wget\n",
            "Successfully installed wget-3.2\n",
            "WARNING: combining -O with -r or -p will mean that all downloaded content\n",
            "will be placed in the single file you specified.\n",
            "\n",
            "--2020-03-21 09:11:21--  http://snap.stanford.edu/data/amazon/productGraph/categoryFiles/reviews_Kindle_Store_5.json.gz\n",
            "Resolving snap.stanford.edu (snap.stanford.edu)... 171.64.75.80\n",
            "Connecting to snap.stanford.edu (snap.stanford.edu)|171.64.75.80|:80... connected.\n",
            "HTTP request sent, awaiting response... 200 OK\n",
            "Length: 272179168 (260M) [application/x-gzip]\n",
            "Saving to: ‘review’\n",
            "\n",
            "review              100%[===================>] 259.57M  9.36MB/s    in 18s     \n",
            "\n",
            "2020-03-21 09:11:39 (14.3 MB/s) - ‘review’ saved [272179168/272179168]\n",
            "\n",
            "FINISHED --2020-03-21 09:11:39--\n",
            "Total wall clock time: 18s\n",
            "Downloaded: 1 files, 260M in 18s (14.3 MB/s)\n"
          ],
          "name": "stdout"
        }
      ]
    },
    {
      "cell_type": "code",
      "metadata": {
        "id": "vI9drAxUfi00",
        "colab_type": "code",
        "colab": {}
      },
      "source": [
        "import pandas as pd\n",
        "import gzip\n",
        "\n",
        "def parse(path):\n",
        "  g = gzip.open(path, 'rb')\n",
        "  for l in g:\n",
        "    yield eval(l)\n",
        "\n",
        "def getDF(path):\n",
        "  i = 0\n",
        "  df = {}\n",
        "  for d in parse(path):\n",
        "    df[i] = d\n",
        "    i += 1\n",
        "  return pd.DataFrame.from_dict(df, orient='index')\n",
        "\n",
        "df = getDF('/content/review')"
      ],
      "execution_count": 0,
      "outputs": []
    },
    {
      "cell_type": "code",
      "metadata": {
        "id": "mgyxSwpCi7Jo",
        "colab_type": "code",
        "outputId": "3026e14e-7b70-4514-80f5-e8638c001c1d",
        "colab": {
          "base_uri": "https://localhost:8080/",
          "height": 408
        }
      },
      "source": [
        "df.head()"
      ],
      "execution_count": 3,
      "outputs": [
        {
          "output_type": "execute_result",
          "data": {
            "text/html": [
              "<div>\n",
              "<style scoped>\n",
              "    .dataframe tbody tr th:only-of-type {\n",
              "        vertical-align: middle;\n",
              "    }\n",
              "\n",
              "    .dataframe tbody tr th {\n",
              "        vertical-align: top;\n",
              "    }\n",
              "\n",
              "    .dataframe thead th {\n",
              "        text-align: right;\n",
              "    }\n",
              "</style>\n",
              "<table border=\"1\" class=\"dataframe\">\n",
              "  <thead>\n",
              "    <tr style=\"text-align: right;\">\n",
              "      <th></th>\n",
              "      <th>reviewerID</th>\n",
              "      <th>asin</th>\n",
              "      <th>reviewerName</th>\n",
              "      <th>helpful</th>\n",
              "      <th>reviewText</th>\n",
              "      <th>overall</th>\n",
              "      <th>summary</th>\n",
              "      <th>unixReviewTime</th>\n",
              "      <th>reviewTime</th>\n",
              "    </tr>\n",
              "  </thead>\n",
              "  <tbody>\n",
              "    <tr>\n",
              "      <th>0</th>\n",
              "      <td>A1F6404F1VG29J</td>\n",
              "      <td>B000F83SZQ</td>\n",
              "      <td>Avidreader</td>\n",
              "      <td>[0, 0]</td>\n",
              "      <td>I enjoy vintage books and movies so I enjoyed ...</td>\n",
              "      <td>5.0</td>\n",
              "      <td>Nice vintage story</td>\n",
              "      <td>1399248000</td>\n",
              "      <td>05 5, 2014</td>\n",
              "    </tr>\n",
              "    <tr>\n",
              "      <th>1</th>\n",
              "      <td>AN0N05A9LIJEQ</td>\n",
              "      <td>B000F83SZQ</td>\n",
              "      <td>critters</td>\n",
              "      <td>[2, 2]</td>\n",
              "      <td>This book is a reissue of an old one; the auth...</td>\n",
              "      <td>4.0</td>\n",
              "      <td>Different...</td>\n",
              "      <td>1388966400</td>\n",
              "      <td>01 6, 2014</td>\n",
              "    </tr>\n",
              "    <tr>\n",
              "      <th>2</th>\n",
              "      <td>A795DMNCJILA6</td>\n",
              "      <td>B000F83SZQ</td>\n",
              "      <td>dot</td>\n",
              "      <td>[2, 2]</td>\n",
              "      <td>This was a fairly interesting read.  It had ol...</td>\n",
              "      <td>4.0</td>\n",
              "      <td>Oldie</td>\n",
              "      <td>1396569600</td>\n",
              "      <td>04 4, 2014</td>\n",
              "    </tr>\n",
              "    <tr>\n",
              "      <th>3</th>\n",
              "      <td>A1FV0SX13TWVXQ</td>\n",
              "      <td>B000F83SZQ</td>\n",
              "      <td>Elaine H. Turley \"Montana Songbird\"</td>\n",
              "      <td>[1, 1]</td>\n",
              "      <td>I'd never read any of the Amy Brewster mysteri...</td>\n",
              "      <td>5.0</td>\n",
              "      <td>I really liked it.</td>\n",
              "      <td>1392768000</td>\n",
              "      <td>02 19, 2014</td>\n",
              "    </tr>\n",
              "    <tr>\n",
              "      <th>4</th>\n",
              "      <td>A3SPTOKDG7WBLN</td>\n",
              "      <td>B000F83SZQ</td>\n",
              "      <td>Father Dowling Fan</td>\n",
              "      <td>[0, 1]</td>\n",
              "      <td>If you like period pieces - clothing, lingo, y...</td>\n",
              "      <td>4.0</td>\n",
              "      <td>Period Mystery</td>\n",
              "      <td>1395187200</td>\n",
              "      <td>03 19, 2014</td>\n",
              "    </tr>\n",
              "  </tbody>\n",
              "</table>\n",
              "</div>"
            ],
            "text/plain": [
              "       reviewerID        asin  ... unixReviewTime   reviewTime\n",
              "0  A1F6404F1VG29J  B000F83SZQ  ...     1399248000   05 5, 2014\n",
              "1   AN0N05A9LIJEQ  B000F83SZQ  ...     1388966400   01 6, 2014\n",
              "2   A795DMNCJILA6  B000F83SZQ  ...     1396569600   04 4, 2014\n",
              "3  A1FV0SX13TWVXQ  B000F83SZQ  ...     1392768000  02 19, 2014\n",
              "4  A3SPTOKDG7WBLN  B000F83SZQ  ...     1395187200  03 19, 2014\n",
              "\n",
              "[5 rows x 9 columns]"
            ]
          },
          "metadata": {
            "tags": []
          },
          "execution_count": 3
        }
      ]
    },
    {
      "cell_type": "code",
      "metadata": {
        "id": "oI_idKcbi87M",
        "colab_type": "code",
        "outputId": "be84186c-fdcc-4266-9aa8-6ac1fb86bfaf",
        "colab": {
          "base_uri": "https://localhost:8080/",
          "height": 34
        }
      },
      "source": [
        "df.shape"
      ],
      "execution_count": 4,
      "outputs": [
        {
          "output_type": "execute_result",
          "data": {
            "text/plain": [
              "(982619, 9)"
            ]
          },
          "metadata": {
            "tags": []
          },
          "execution_count": 4
        }
      ]
    },
    {
      "cell_type": "code",
      "metadata": {
        "id": "G_wIo3MPpEde",
        "colab_type": "code",
        "colab": {}
      },
      "source": [
        "df=df[:10000]"
      ],
      "execution_count": 0,
      "outputs": []
    },
    {
      "cell_type": "code",
      "metadata": {
        "id": "LdaBrYEmjzj0",
        "colab_type": "code",
        "colab": {
          "base_uri": "https://localhost:8080/",
          "height": 68
        },
        "outputId": "58d21140-1910-4790-ac19-7769368ad677"
      },
      "source": [
        "df.columns"
      ],
      "execution_count": 6,
      "outputs": [
        {
          "output_type": "execute_result",
          "data": {
            "text/plain": [
              "Index(['reviewerID', 'asin', 'reviewerName', 'helpful', 'reviewText',\n",
              "       'overall', 'summary', 'unixReviewTime', 'reviewTime'],\n",
              "      dtype='object')"
            ]
          },
          "metadata": {
            "tags": []
          },
          "execution_count": 6
        }
      ]
    },
    {
      "cell_type": "code",
      "metadata": {
        "id": "xXLzHsG8oLZU",
        "colab_type": "code",
        "outputId": "e8298d5a-fa3e-4263-ded8-5b28acf8e94c",
        "colab": {
          "base_uri": "https://localhost:8080/",
          "height": 187
        }
      },
      "source": [
        "df.dtypes"
      ],
      "execution_count": 7,
      "outputs": [
        {
          "output_type": "execute_result",
          "data": {
            "text/plain": [
              "reviewerID         object\n",
              "asin               object\n",
              "reviewerName       object\n",
              "helpful            object\n",
              "reviewText         object\n",
              "overall           float64\n",
              "summary            object\n",
              "unixReviewTime      int64\n",
              "reviewTime         object\n",
              "dtype: object"
            ]
          },
          "metadata": {
            "tags": []
          },
          "execution_count": 7
        }
      ]
    },
    {
      "cell_type": "code",
      "metadata": {
        "id": "BVuUWtw0oM-Y",
        "colab_type": "code",
        "colab": {
          "base_uri": "https://localhost:8080/",
          "height": 119
        },
        "outputId": "a2d62e8a-44f7-4cb1-f5ef-e5b9cb9cf282"
      },
      "source": [
        "df['overall'].value_counts()"
      ],
      "execution_count": 8,
      "outputs": [
        {
          "output_type": "execute_result",
          "data": {
            "text/plain": [
              "5.0    4631\n",
              "4.0    2963\n",
              "3.0    1403\n",
              "2.0     578\n",
              "1.0     425\n",
              "Name: overall, dtype: int64"
            ]
          },
          "metadata": {
            "tags": []
          },
          "execution_count": 8
        }
      ]
    },
    {
      "cell_type": "code",
      "metadata": {
        "id": "rJDpcw8Y8vlO",
        "colab_type": "code",
        "colab": {
          "base_uri": "https://localhost:8080/",
          "height": 288
        },
        "outputId": "729575c4-c20d-4886-a457-47def79f3c88"
      },
      "source": [
        "df['overall'].value_counts().plot.bar()"
      ],
      "execution_count": 9,
      "outputs": [
        {
          "output_type": "execute_result",
          "data": {
            "text/plain": [
              "<matplotlib.axes._subplots.AxesSubplot at 0x7fc2f3060fd0>"
            ]
          },
          "metadata": {
            "tags": []
          },
          "execution_count": 9
        },
        {
          "output_type": "display_data",
          "data": {
            "image/png": "[encoded data removed]",
            "text/plain": [
              "<Figure size 432x288 with 1 Axes>"
            ]
          },
          "metadata": {
            "tags": []
          }
        }
      ]
    },
    {
      "cell_type": "code",
      "metadata": {
        "id": "EB0mAWyJ81Z7",
        "colab_type": "code",
        "colab": {}
      },
      "source": [
        "df['overall']=df['overall'].astype('float32')"
      ],
      "execution_count": 0,
      "outputs": []
    },
    {
      "cell_type": "code",
      "metadata": {
        "id": "UVBEDF5-_4nV",
        "colab_type": "code",
        "colab": {
          "base_uri": "https://localhost:8080/",
          "height": 34
        },
        "outputId": "a5df0214-f75b-4e97-82b5-126c85914435"
      },
      "source": [
        "df['overall'].dtype"
      ],
      "execution_count": 11,
      "outputs": [
        {
          "output_type": "execute_result",
          "data": {
            "text/plain": [
              "dtype('float32')"
            ]
          },
          "metadata": {
            "tags": []
          },
          "execution_count": 11
        }
      ]
    },
    {
      "cell_type": "code",
      "metadata": {
        "id": "1yDpA6FX_8H1",
        "colab_type": "code",
        "colab": {}
      },
      "source": [
        "def review_type(x):\n",
        "  if x > 3.0:\n",
        "    return 'positive'\n",
        "  elif x == 3.0:\n",
        "    return 'neutral'\n",
        "  else:\n",
        "    return 'negative'\n",
        "  "
      ],
      "execution_count": 0,
      "outputs": []
    },
    {
      "cell_type": "code",
      "metadata": {
        "id": "V3J7tUnEAOn3",
        "colab_type": "code",
        "colab": {}
      },
      "source": [
        "df['review_type']=df['overall'].apply(review_type)"
      ],
      "execution_count": 0,
      "outputs": []
    },
    {
      "cell_type": "code",
      "metadata": {
        "id": "gZHQJD2BAXEl",
        "colab_type": "code",
        "colab": {
          "base_uri": "https://localhost:8080/",
          "height": 547
        },
        "outputId": "8c9c43cf-0018-4f6a-8e50-fd69efacbf3d"
      },
      "source": [
        "df.head()"
      ],
      "execution_count": 14,
      "outputs": [
        {
          "output_type": "execute_result",
          "data": {
            "text/html": [
              "<div>\n",
              "<style scoped>\n",
              "    .dataframe tbody tr th:only-of-type {\n",
              "        vertical-align: middle;\n",
              "    }\n",
              "\n",
              "    .dataframe tbody tr th {\n",
              "        vertical-align: top;\n",
              "    }\n",
              "\n",
              "    .dataframe thead th {\n",
              "        text-align: right;\n",
              "    }\n",
              "</style>\n",
              "<table border=\"1\" class=\"dataframe\">\n",
              "  <thead>\n",
              "    <tr style=\"text-align: right;\">\n",
              "      <th></th>\n",
              "      <th>reviewerID</th>\n",
              "      <th>asin</th>\n",
              "      <th>reviewerName</th>\n",
              "      <th>helpful</th>\n",
              "      <th>reviewText</th>\n",
              "      <th>overall</th>\n",
              "      <th>summary</th>\n",
              "      <th>unixReviewTime</th>\n",
              "      <th>reviewTime</th>\n",
              "      <th>review_type</th>\n",
              "    </tr>\n",
              "  </thead>\n",
              "  <tbody>\n",
              "    <tr>\n",
              "      <th>0</th>\n",
              "      <td>A1F6404F1VG29J</td>\n",
              "      <td>B000F83SZQ</td>\n",
              "      <td>Avidreader</td>\n",
              "      <td>[0, 0]</td>\n",
              "      <td>I enjoy vintage books and movies so I enjoyed ...</td>\n",
              "      <td>5.0</td>\n",
              "      <td>Nice vintage story</td>\n",
              "      <td>1399248000</td>\n",
              "      <td>05 5, 2014</td>\n",
              "      <td>positive</td>\n",
              "    </tr>\n",
              "    <tr>\n",
              "      <th>1</th>\n",
              "      <td>AN0N05A9LIJEQ</td>\n",
              "      <td>B000F83SZQ</td>\n",
              "      <td>critters</td>\n",
              "      <td>[2, 2]</td>\n",
              "      <td>This book is a reissue of an old one; the auth...</td>\n",
              "      <td>4.0</td>\n",
              "      <td>Different...</td>\n",
              "      <td>1388966400</td>\n",
              "      <td>01 6, 2014</td>\n",
              "      <td>positive</td>\n",
              "    </tr>\n",
              "    <tr>\n",
              "      <th>2</th>\n",
              "      <td>A795DMNCJILA6</td>\n",
              "      <td>B000F83SZQ</td>\n",
              "      <td>dot</td>\n",
              "      <td>[2, 2]</td>\n",
              "      <td>This was a fairly interesting read.  It had ol...</td>\n",
              "      <td>4.0</td>\n",
              "      <td>Oldie</td>\n",
              "      <td>1396569600</td>\n",
              "      <td>04 4, 2014</td>\n",
              "      <td>positive</td>\n",
              "    </tr>\n",
              "    <tr>\n",
              "      <th>3</th>\n",
              "      <td>A1FV0SX13TWVXQ</td>\n",
              "      <td>B000F83SZQ</td>\n",
              "      <td>Elaine H. Turley \"Montana Songbird\"</td>\n",
              "      <td>[1, 1]</td>\n",
              "      <td>I'd never read any of the Amy Brewster mysteri...</td>\n",
              "      <td>5.0</td>\n",
              "      <td>I really liked it.</td>\n",
              "      <td>1392768000</td>\n",
              "      <td>02 19, 2014</td>\n",
              "      <td>positive</td>\n",
              "    </tr>\n",
              "    <tr>\n",
              "      <th>4</th>\n",
              "      <td>A3SPTOKDG7WBLN</td>\n",
              "      <td>B000F83SZQ</td>\n",
              "      <td>Father Dowling Fan</td>\n",
              "      <td>[0, 1]</td>\n",
              "      <td>If you like period pieces - clothing, lingo, y...</td>\n",
              "      <td>4.0</td>\n",
              "      <td>Period Mystery</td>\n",
              "      <td>1395187200</td>\n",
              "      <td>03 19, 2014</td>\n",
              "      <td>positive</td>\n",
              "    </tr>\n",
              "  </tbody>\n",
              "</table>\n",
              "</div>"
            ],
            "text/plain": [
              "       reviewerID        asin  ...   reviewTime review_type\n",
              "0  A1F6404F1VG29J  B000F83SZQ  ...   05 5, 2014    positive\n",
              "1   AN0N05A9LIJEQ  B000F83SZQ  ...   01 6, 2014    positive\n",
              "2   A795DMNCJILA6  B000F83SZQ  ...   04 4, 2014    positive\n",
              "3  A1FV0SX13TWVXQ  B000F83SZQ  ...  02 19, 2014    positive\n",
              "4  A3SPTOKDG7WBLN  B000F83SZQ  ...  03 19, 2014    positive\n",
              "\n",
              "[5 rows x 10 columns]"
            ]
          },
          "metadata": {
            "tags": []
          },
          "execution_count": 14
        }
      ]
    },
    {
      "cell_type": "code",
      "metadata": {
        "id": "gyRESEILAYkF",
        "colab_type": "code",
        "colab": {
          "base_uri": "https://localhost:8080/",
          "height": 85
        },
        "outputId": "4d8ab094-0c6f-4c48-fa9f-d08a791cbb0e"
      },
      "source": [
        "df['review_type'].value_counts()"
      ],
      "execution_count": 15,
      "outputs": [
        {
          "output_type": "execute_result",
          "data": {
            "text/plain": [
              "positive    7594\n",
              "neutral     1403\n",
              "negative    1003\n",
              "Name: review_type, dtype: int64"
            ]
          },
          "metadata": {
            "tags": []
          },
          "execution_count": 15
        }
      ]
    },
    {
      "cell_type": "code",
      "metadata": {
        "id": "FBbiGNOfE984",
        "colab_type": "code",
        "colab": {}
      },
      "source": [
        "new_df=df.loc[:,['reviewText','review_type']]"
      ],
      "execution_count": 0,
      "outputs": []
    },
    {
      "cell_type": "code",
      "metadata": {
        "id": "m9NulrhBFP79",
        "colab_type": "code",
        "colab": {
          "base_uri": "https://localhost:8080/",
          "height": 204
        },
        "outputId": "56858b77-3857-45ed-f898-fff2c624cda5"
      },
      "source": [
        "new_df.head()"
      ],
      "execution_count": 17,
      "outputs": [
        {
          "output_type": "execute_result",
          "data": {
            "text/html": [
              "<div>\n",
              "<style scoped>\n",
              "    .dataframe tbody tr th:only-of-type {\n",
              "        vertical-align: middle;\n",
              "    }\n",
              "\n",
              "    .dataframe tbody tr th {\n",
              "        vertical-align: top;\n",
              "    }\n",
              "\n",
              "    .dataframe thead th {\n",
              "        text-align: right;\n",
              "    }\n",
              "</style>\n",
              "<table border=\"1\" class=\"dataframe\">\n",
              "  <thead>\n",
              "    <tr style=\"text-align: right;\">\n",
              "      <th></th>\n",
              "      <th>reviewText</th>\n",
              "      <th>review_type</th>\n",
              "    </tr>\n",
              "  </thead>\n",
              "  <tbody>\n",
              "    <tr>\n",
              "      <th>0</th>\n",
              "      <td>I enjoy vintage books and movies so I enjoyed ...</td>\n",
              "      <td>positive</td>\n",
              "    </tr>\n",
              "    <tr>\n",
              "      <th>1</th>\n",
              "      <td>This book is a reissue of an old one; the auth...</td>\n",
              "      <td>positive</td>\n",
              "    </tr>\n",
              "    <tr>\n",
              "      <th>2</th>\n",
              "      <td>This was a fairly interesting read.  It had ol...</td>\n",
              "      <td>positive</td>\n",
              "    </tr>\n",
              "    <tr>\n",
              "      <th>3</th>\n",
              "      <td>I'd never read any of the Amy Brewster mysteri...</td>\n",
              "      <td>positive</td>\n",
              "    </tr>\n",
              "    <tr>\n",
              "      <th>4</th>\n",
              "      <td>If you like period pieces - clothing, lingo, y...</td>\n",
              "      <td>positive</td>\n",
              "    </tr>\n",
              "  </tbody>\n",
              "</table>\n",
              "</div>"
            ],
            "text/plain": [
              "                                          reviewText review_type\n",
              "0  I enjoy vintage books and movies so I enjoyed ...    positive\n",
              "1  This book is a reissue of an old one; the auth...    positive\n",
              "2  This was a fairly interesting read.  It had ol...    positive\n",
              "3  I'd never read any of the Amy Brewster mysteri...    positive\n",
              "4  If you like period pieces - clothing, lingo, y...    positive"
            ]
          },
          "metadata": {
            "tags": []
          },
          "execution_count": 17
        }
      ]
    },
    {
      "cell_type": "code",
      "metadata": {
        "id": "Cm0JWAY3FYa_",
        "colab_type": "code",
        "colab": {
          "base_uri": "https://localhost:8080/",
          "height": 68
        },
        "outputId": "7c9c064b-628e-4ef2-f942-7ef4f7c82750"
      },
      "source": [
        "new_df.isnull().sum()"
      ],
      "execution_count": 18,
      "outputs": [
        {
          "output_type": "execute_result",
          "data": {
            "text/plain": [
              "reviewText     0\n",
              "review_type    0\n",
              "dtype: int64"
            ]
          },
          "metadata": {
            "tags": []
          },
          "execution_count": 18
        }
      ]
    },
    {
      "cell_type": "code",
      "metadata": {
        "id": "Ptsfq0KDFq8Q",
        "colab_type": "code",
        "colab": {}
      },
      "source": [
        "from sklearn.utils import shuffle"
      ],
      "execution_count": 0,
      "outputs": []
    },
    {
      "cell_type": "code",
      "metadata": {
        "id": "le-LXe9zF9ar",
        "colab_type": "code",
        "colab": {}
      },
      "source": [
        "new_df=shuffle(new_df)"
      ],
      "execution_count": 0,
      "outputs": []
    },
    {
      "cell_type": "code",
      "metadata": {
        "id": "tuFmmU2PGAet",
        "colab_type": "code",
        "colab": {}
      },
      "source": [
        ""
      ],
      "execution_count": 0,
      "outputs": []
    },
    {
      "cell_type": "code",
      "metadata": {
        "id": "g6_j5WXEGgzm",
        "colab_type": "code",
        "colab": {}
      },
      "source": [
        "raw=[]\n",
        "for text in new_df.reviewText:\n",
        "    raw.append(text)"
      ],
      "execution_count": 0,
      "outputs": []
    },
    {
      "cell_type": "code",
      "metadata": {
        "id": "ChsqI8DPIRJ8",
        "colab_type": "code",
        "colab": {}
      },
      "source": [
        "import re\n",
        "import string\n",
        "raw1=[]\n",
        "for text in raw:\n",
        "    text=text.lower()\n",
        "    for z in text:\n",
        "        if  z in string.punctuation:\n",
        "            text=text.replace(z,'')\n",
        "    raw1.append(text)"
      ],
      "execution_count": 0,
      "outputs": []
    },
    {
      "cell_type": "code",
      "metadata": {
        "id": "7LYO2bnVIUhG",
        "colab_type": "code",
        "colab": {}
      },
      "source": [
        "def clean_text(text):\n",
        "    text=re.sub(\"[0-9]+\",\"/DIG/\",text)\n",
        "    \n",
        "    return text"
      ],
      "execution_count": 0,
      "outputs": []
    },
    {
      "cell_type": "code",
      "metadata": {
        "id": "UqrrbbecIcCC",
        "colab_type": "code",
        "colab": {}
      },
      "source": [
        "raw2=[clean_text(text) for text in raw1]\n"
      ],
      "execution_count": 0,
      "outputs": []
    },
    {
      "cell_type": "code",
      "metadata": {
        "id": "PVXOJzfwIgeS",
        "colab_type": "code",
        "colab": {
          "base_uri": "https://localhost:8080/",
          "height": 34
        },
        "outputId": "5ce06694-1a2d-415e-8ce0-bbbe86899f8c"
      },
      "source": [
        "raw2[1]"
      ],
      "execution_count": 25,
      "outputs": [
        {
          "output_type": "execute_result",
          "data": {
            "text/plain": [
              "'great /DIG/ nd book in the series marc and kelly are true mates and lissa vision come true in this follow up book'"
            ]
          },
          "metadata": {
            "tags": []
          },
          "execution_count": 25
        }
      ]
    },
    {
      "cell_type": "code",
      "metadata": {
        "id": "_wbXF_GOIi0H",
        "colab_type": "code",
        "colab": {
          "base_uri": "https://localhost:8080/",
          "height": 80
        },
        "outputId": "0475895b-aa7b-4878-965f-a9195226e0db"
      },
      "source": [
        "from keras.preprocessing.text import Tokenizer\n",
        "from keras.preprocessing.sequence import pad_sequences\n",
        "from sklearn.preprocessing import LabelEncoder,OneHotEncoder"
      ],
      "execution_count": 26,
      "outputs": [
        {
          "output_type": "stream",
          "text": [
            "Using TensorFlow backend.\n"
          ],
          "name": "stderr"
        },
        {
          "output_type": "display_data",
          "data": {
            "text/html": [
              "<p style=\"color: red;\">\n",
              "The default version of TensorFlow in Colab will soon switch to TensorFlow 2.x.<br>\n",
              "We recommend you <a href=\"https://www.tensorflow.org/guide/migrate\" target=\"_blank\">upgrade</a> now \n",
              "or ensure your notebook will continue to use TensorFlow 1.x via the <code>%tensorflow_version 1.x</code> magic:\n",
              "<a href=\"https://colab.research.google.com/notebooks/tensorflow_version.ipynb\" target=\"_blank\">more info</a>.</p>\n"
            ],
            "text/plain": [
              "<IPython.core.display.HTML object>"
            ]
          },
          "metadata": {
            "tags": []
          }
        }
      ]
    },
    {
      "cell_type": "code",
      "metadata": {
        "id": "rEj1fpNSIwzH",
        "colab_type": "code",
        "colab": {}
      },
      "source": [
        "y=new_df.loc[:,'review_type']"
      ],
      "execution_count": 0,
      "outputs": []
    },
    {
      "cell_type": "code",
      "metadata": {
        "id": "JbHRgj2lJT4C",
        "colab_type": "code",
        "colab": {}
      },
      "source": [
        "le=LabelEncoder()\n",
        "onehot=OneHotEncoder()\n",
        "y=le.fit_transform(y).reshape(-1,1)\n",
        "y=onehot.fit_transform(y).toarray()"
      ],
      "execution_count": 0,
      "outputs": []
    },
    {
      "cell_type": "code",
      "metadata": {
        "id": "wjkCbYgvJZWG",
        "colab_type": "code",
        "colab": {}
      },
      "source": [
        "tokenizer=Tokenizer()\n",
        "tokenizer.fit_on_texts(raw2)"
      ],
      "execution_count": 0,
      "outputs": []
    },
    {
      "cell_type": "code",
      "metadata": {
        "id": "Uc0VrlHLy4Gz",
        "colab_type": "code",
        "colab": {}
      },
      "source": [
        "seq=tokenizer.texts_to_sequences(raw2)"
      ],
      "execution_count": 0,
      "outputs": []
    },
    {
      "cell_type": "code",
      "metadata": {
        "id": "U3cBKrAUzX8b",
        "colab_type": "code",
        "colab": {}
      },
      "source": [
        "max_len_input=max(len(s) for s in seq)"
      ],
      "execution_count": 0,
      "outputs": []
    },
    {
      "cell_type": "code",
      "metadata": {
        "id": "i1xyQNFbzmWb",
        "colab_type": "code",
        "colab": {
          "base_uri": "https://localhost:8080/",
          "height": 34
        },
        "outputId": "f225db4b-fd10-41ee-bc61-390d600c9c2e"
      },
      "source": [
        "max_len_input"
      ],
      "execution_count": 32,
      "outputs": [
        {
          "output_type": "execute_result",
          "data": {
            "text/plain": [
              "2146"
            ]
          },
          "metadata": {
            "tags": []
          },
          "execution_count": 32
        }
      ]
    },
    {
      "cell_type": "code",
      "metadata": {
        "id": "SpHtugG9z4kE",
        "colab_type": "code",
        "colab": {}
      },
      "source": [
        "input_sequence=pad_sequences(seq,maxlen=50,padding='post')"
      ],
      "execution_count": 0,
      "outputs": []
    },
    {
      "cell_type": "code",
      "metadata": {
        "id": "q1AMUldD0whj",
        "colab_type": "code",
        "colab": {
          "base_uri": "https://localhost:8080/",
          "height": 357
        },
        "outputId": "c3049564-5995-4a97-cc0d-d770646050ee"
      },
      "source": [
        "!wget http://nlp.stanford.edu/data/glove.6B.zip\n"
      ],
      "execution_count": 34,
      "outputs": [
        {
          "output_type": "stream",
          "text": [
            "--2020-03-21 09:12:43--  http://nlp.stanford.edu/data/glove.6B.zip\n",
            "Resolving nlp.stanford.edu (nlp.stanford.edu)... 171.64.67.140\n",
            "Connecting to nlp.stanford.edu (nlp.stanford.edu)|171.64.67.140|:80... connected.\n",
            "HTTP request sent, awaiting response... 302 Found\n",
            "Location: https://nlp.stanford.edu/data/glove.6B.zip [following]\n",
            "--2020-03-21 09:12:43--  https://nlp.stanford.edu/data/glove.6B.zip\n",
            "Connecting to nlp.stanford.edu (nlp.stanford.edu)|171.64.67.140|:443... connected.\n",
            "HTTP request sent, awaiting response... 301 Moved Permanently\n",
            "Location: http://downloads.cs.stanford.edu/nlp/data/glove.6B.zip [following]\n",
            "--2020-03-21 09:12:43--  http://downloads.cs.stanford.edu/nlp/data/glove.6B.zip\n",
            "Resolving downloads.cs.stanford.edu (downloads.cs.stanford.edu)... 171.64.64.22\n",
            "Connecting to downloads.cs.stanford.edu (downloads.cs.stanford.edu)|171.64.64.22|:80... connected.\n",
            "HTTP request sent, awaiting response... 200 OK\n",
            "Length: 862182613 (822M) [application/zip]\n",
            "Saving to: ‘glove.6B.zip’\n",
            "\n",
            "glove.6B.zip        100%[===================>] 822.24M  1.97MB/s    in 6m 26s  \n",
            "\n",
            "2020-03-21 09:19:10 (2.13 MB/s) - ‘glove.6B.zip’ saved [862182613/862182613]\n",
            "\n"
          ],
          "name": "stdout"
        }
      ]
    },
    {
      "cell_type": "code",
      "metadata": {
        "id": "8-4He1NI1lNH",
        "colab_type": "code",
        "colab": {
          "base_uri": "https://localhost:8080/",
          "height": 102
        },
        "outputId": "8f795af3-f09d-460e-cee7-2840728695b4"
      },
      "source": [
        "!unzip glove*.zip\n"
      ],
      "execution_count": 35,
      "outputs": [
        {
          "output_type": "stream",
          "text": [
            "Archive:  glove.6B.zip\n",
            "  inflating: glove.6B.50d.txt        \n",
            "  inflating: glove.6B.100d.txt       \n",
            "  inflating: glove.6B.200d.txt       \n",
            "  inflating: glove.6B.300d.txt       \n"
          ],
          "name": "stdout"
        }
      ]
    },
    {
      "cell_type": "code",
      "metadata": {
        "id": "tLAEAiVe3GoH",
        "colab_type": "code",
        "colab": {
          "base_uri": "https://localhost:8080/",
          "height": 51
        },
        "outputId": "8f63009c-bacc-4b38-97f0-7ff768645c75"
      },
      "source": [
        "print('Indexing word vectors.')\n",
        "import numpy as np\n",
        "\n",
        "embeddings_index = {}\n",
        "f = open('glove.6B.100d.txt', encoding='utf-8')\n",
        "for line in f:\n",
        "    values = line.split()\n",
        "    word = values[0]\n",
        "    coefs = np.asarray(values[1:], dtype='float32')\n",
        "    embeddings_index[word] = coefs\n",
        "f.close()\n",
        "\n",
        "print('Found %s word vectors.' % len(embeddings_index))"
      ],
      "execution_count": 36,
      "outputs": [
        {
          "output_type": "stream",
          "text": [
            "Indexing word vectors.\n",
            "Found 400000 word vectors.\n"
          ],
          "name": "stdout"
        }
      ]
    },
    {
      "cell_type": "code",
      "metadata": {
        "id": "b8fkxgxU3Q_P",
        "colab_type": "code",
        "colab": {}
      },
      "source": [
        "\n",
        "num_words_input=len(tokenizer.word_index)+1\n",
        "word2idx_input=tokenizer.word_index\n",
        "MAX_NUM_WORDS=40000\n",
        "num_words=num_words_input\n",
        "embedding_matrix=np.zeros((num_words,100))\n",
        "for word,i in word2idx_input.items():\n",
        "    if i<MAX_NUM_WORDS:\n",
        "        embedding_vector=embeddings_index.get(word)\n",
        "    if embedding_vector is not None:\n",
        "        embedding_matrix[i]=embedding_vector"
      ],
      "execution_count": 0,
      "outputs": []
    },
    {
      "cell_type": "code",
      "metadata": {
        "id": "TinXyaHL3UfO",
        "colab_type": "code",
        "colab": {}
      },
      "source": [
        "from sklearn.model_selection import train_test_split\n",
        "xtrain,xtest,ytrain,ytest=train_test_split(input_sequence,y,test_size=0.3,random_state=42)"
      ],
      "execution_count": 0,
      "outputs": []
    },
    {
      "cell_type": "code",
      "metadata": {
        "id": "eurXnqsW3yDb",
        "colab_type": "code",
        "colab": {}
      },
      "source": [
        "from keras.models import Sequential\n",
        "from keras.layers import Embedding,LSTM,Dense,Dropout"
      ],
      "execution_count": 0,
      "outputs": []
    },
    {
      "cell_type": "code",
      "metadata": {
        "id": "7NI_gJ-Z4MKU",
        "colab_type": "code",
        "colab": {
          "base_uri": "https://localhost:8080/",
          "height": 34
        },
        "outputId": "60172ced-3afa-4eb0-a61e-8ba49f196724"
      },
      "source": [
        "vocab_size=len(tokenizer.word_index) + 1\n",
        "vocab_size"
      ],
      "execution_count": 40,
      "outputs": [
        {
          "output_type": "execute_result",
          "data": {
            "text/plain": [
              "39970"
            ]
          },
          "metadata": {
            "tags": []
          },
          "execution_count": 40
        }
      ]
    },
    {
      "cell_type": "code",
      "metadata": {
        "id": "YBY1fD-W4BEz",
        "colab_type": "code",
        "colab": {
          "base_uri": "https://localhost:8080/",
          "height": 343
        },
        "outputId": "b13138a9-6367-4fa6-f4dd-9fc4605f1e49"
      },
      "source": [
        "model=Sequential()\n",
        "model.add(Embedding(vocab_size,100,weights=[embedding_matrix],input_length=50))"
      ],
      "execution_count": 41,
      "outputs": [
        {
          "output_type": "stream",
          "text": [
            "WARNING:tensorflow:From /usr/local/lib/python3.6/dist-packages/keras/backend/tensorflow_backend.py:66: The name tf.get_default_graph is deprecated. Please use tf.compat.v1.get_default_graph instead.\n",
            "\n",
            "WARNING:tensorflow:From /usr/local/lib/python3.6/dist-packages/keras/backend/tensorflow_backend.py:541: The name tf.placeholder is deprecated. Please use tf.compat.v1.placeholder instead.\n",
            "\n",
            "WARNING:tensorflow:From /usr/local/lib/python3.6/dist-packages/keras/backend/tensorflow_backend.py:4432: The name tf.random_uniform is deprecated. Please use tf.random.uniform instead.\n",
            "\n",
            "WARNING:tensorflow:From /usr/local/lib/python3.6/dist-packages/keras/backend/tensorflow_backend.py:190: The name tf.get_default_session is deprecated. Please use tf.compat.v1.get_default_session instead.\n",
            "\n",
            "WARNING:tensorflow:From /usr/local/lib/python3.6/dist-packages/keras/backend/tensorflow_backend.py:197: The name tf.ConfigProto is deprecated. Please use tf.compat.v1.ConfigProto instead.\n",
            "\n",
            "WARNING:tensorflow:From /usr/local/lib/python3.6/dist-packages/keras/backend/tensorflow_backend.py:203: The name tf.Session is deprecated. Please use tf.compat.v1.Session instead.\n",
            "\n",
            "WARNING:tensorflow:From /usr/local/lib/python3.6/dist-packages/keras/backend/tensorflow_backend.py:207: The name tf.global_variables is deprecated. Please use tf.compat.v1.global_variables instead.\n",
            "\n",
            "WARNING:tensorflow:From /usr/local/lib/python3.6/dist-packages/keras/backend/tensorflow_backend.py:216: The name tf.is_variable_initialized is deprecated. Please use tf.compat.v1.is_variable_initialized instead.\n",
            "\n",
            "WARNING:tensorflow:From /usr/local/lib/python3.6/dist-packages/keras/backend/tensorflow_backend.py:223: The name tf.variables_initializer is deprecated. Please use tf.compat.v1.variables_initializer instead.\n",
            "\n"
          ],
          "name": "stdout"
        }
      ]
    },
    {
      "cell_type": "code",
      "metadata": {
        "id": "Dck25Rub4otY",
        "colab_type": "code",
        "colab": {
          "base_uri": "https://localhost:8080/",
          "height": 122
        },
        "outputId": "b8121eab-d253-4bbb-80d0-e91e7905ae76"
      },
      "source": [
        "model.add(LSTM(100,return_sequences=True))\n",
        "model.add(LSTM(100))\n",
        "model.add(Dropout(0.3))\n",
        "model.add(Dense(3,activation='softmax'))"
      ],
      "execution_count": 42,
      "outputs": [
        {
          "output_type": "stream",
          "text": [
            "WARNING:tensorflow:From /usr/local/lib/python3.6/dist-packages/keras/backend/tensorflow_backend.py:148: The name tf.placeholder_with_default is deprecated. Please use tf.compat.v1.placeholder_with_default instead.\n",
            "\n",
            "WARNING:tensorflow:From /usr/local/lib/python3.6/dist-packages/keras/backend/tensorflow_backend.py:3733: calling dropout (from tensorflow.python.ops.nn_ops) with keep_prob is deprecated and will be removed in a future version.\n",
            "Instructions for updating:\n",
            "Please use `rate` instead of `keep_prob`. Rate should be set to `rate = 1 - keep_prob`.\n"
          ],
          "name": "stdout"
        }
      ]
    },
    {
      "cell_type": "code",
      "metadata": {
        "id": "4qv8MSOR48rm",
        "colab_type": "code",
        "colab": {
          "base_uri": "https://localhost:8080/",
          "height": 105
        },
        "outputId": "255d832f-eb69-4950-8612-6c9c472d6834"
      },
      "source": [
        "model.compile(optimizer='adam',loss='categorical_crossentropy',metrics=['accuracy'])"
      ],
      "execution_count": 43,
      "outputs": [
        {
          "output_type": "stream",
          "text": [
            "WARNING:tensorflow:From /usr/local/lib/python3.6/dist-packages/keras/optimizers.py:793: The name tf.train.Optimizer is deprecated. Please use tf.compat.v1.train.Optimizer instead.\n",
            "\n",
            "WARNING:tensorflow:From /usr/local/lib/python3.6/dist-packages/keras/backend/tensorflow_backend.py:3576: The name tf.log is deprecated. Please use tf.math.log instead.\n",
            "\n"
          ],
          "name": "stdout"
        }
      ]
    },
    {
      "cell_type": "code",
      "metadata": {
        "id": "ECG0Jz2j5GzW",
        "colab_type": "code",
        "colab": {
          "base_uri": "https://localhost:8080/",
          "height": 513
        },
        "outputId": "eb5fd1a3-0055-4c08-d76b-2697e4e32871"
      },
      "source": [
        "r=model.fit(xtrain,ytrain,epochs=10,batch_size=32,validation_data=(xtest,ytest))"
      ],
      "execution_count": 44,
      "outputs": [
        {
          "output_type": "stream",
          "text": [
            "WARNING:tensorflow:From /tensorflow-1.15.0/python3.6/tensorflow_core/python/ops/math_grad.py:1424: where (from tensorflow.python.ops.array_ops) is deprecated and will be removed in a future version.\n",
            "Instructions for updating:\n",
            "Use tf.where in 2.0, which has the same broadcast rule as np.where\n",
            "WARNING:tensorflow:From /usr/local/lib/python3.6/dist-packages/keras/backend/tensorflow_backend.py:1033: The name tf.assign_add is deprecated. Please use tf.compat.v1.assign_add instead.\n",
            "\n",
            "WARNING:tensorflow:From /usr/local/lib/python3.6/dist-packages/keras/backend/tensorflow_backend.py:1020: The name tf.assign is deprecated. Please use tf.compat.v1.assign instead.\n",
            "\n",
            "Train on 7000 samples, validate on 3000 samples\n",
            "Epoch 1/10\n",
            "7000/7000 [==============================] - 38s 5ms/step - loss: 0.6863 - acc: 0.7590 - val_loss: 0.6257 - val_acc: 0.7600\n",
            "Epoch 2/10\n",
            "7000/7000 [==============================] - 35s 5ms/step - loss: 0.5417 - acc: 0.7810 - val_loss: 0.5741 - val_acc: 0.7730\n",
            "Epoch 3/10\n",
            "7000/7000 [==============================] - 35s 5ms/step - loss: 0.4382 - acc: 0.8149 - val_loss: 0.5676 - val_acc: 0.7713\n",
            "Epoch 4/10\n",
            "7000/7000 [==============================] - 35s 5ms/step - loss: 0.3424 - acc: 0.8579 - val_loss: 0.7360 - val_acc: 0.7553\n",
            "Epoch 5/10\n",
            "7000/7000 [==============================] - 35s 5ms/step - loss: 0.2484 - acc: 0.9030 - val_loss: 0.7447 - val_acc: 0.7503\n",
            "Epoch 6/10\n",
            "7000/7000 [==============================] - 35s 5ms/step - loss: 0.1796 - acc: 0.9334 - val_loss: 0.8512 - val_acc: 0.7367\n",
            "Epoch 7/10\n",
            "7000/7000 [==============================] - 35s 5ms/step - loss: 0.1168 - acc: 0.9569 - val_loss: 0.9580 - val_acc: 0.7377\n",
            "Epoch 8/10\n",
            "7000/7000 [==============================] - 35s 5ms/step - loss: 0.0924 - acc: 0.9681 - val_loss: 1.2106 - val_acc: 0.7237\n",
            "Epoch 9/10\n",
            "7000/7000 [==============================] - 35s 5ms/step - loss: 0.0642 - acc: 0.9804 - val_loss: 1.3671 - val_acc: 0.7293\n",
            "Epoch 10/10\n",
            "7000/7000 [==============================] - 35s 5ms/step - loss: 0.0536 - acc: 0.9850 - val_loss: 1.1886 - val_acc: 0.7077\n"
          ],
          "name": "stdout"
        }
      ]
    },
    {
      "cell_type": "code",
      "metadata": {
        "id": "KVToSgry_qIO",
        "colab_type": "code",
        "colab": {
          "base_uri": "https://localhost:8080/",
          "height": 265
        },
        "outputId": "1f14afa6-83ad-41ad-e65c-e415027a5008"
      },
      "source": [
        "%matplotlib inline\n",
        "\n",
        "import matplotlib.pyplot as plt\n",
        "plt.plot(r.history['loss'],label='loss')\n",
        "plt.plot(r.history['val_loss'],label='val_loss')\n",
        "plt.legend()\n",
        "plt.show()"
      ],
      "execution_count": 45,
      "outputs": [
        {
          "output_type": "display_data",
          "data": {
            "image/png": "[encoded data removed]",
            "text/plain": [
              "<Figure size 432x288 with 1 Axes>"
            ]
          },
          "metadata": {
            "tags": []
          }
        }
      ]
    },
    {
      "cell_type": "code",
      "metadata": {
        "id": "QyUDTRgB5PuT",
        "colab_type": "code",
        "colab": {
          "base_uri": "https://localhost:8080/",
          "height": 51
        },
        "outputId": "2ba9d10c-ae39-4e24-aa6e-dce5d7569f1f"
      },
      "source": [
        "model.evaluate(xtest,ytest)"
      ],
      "execution_count": 46,
      "outputs": [
        {
          "output_type": "stream",
          "text": [
            "3000/3000 [==============================] - 5s 2ms/step\n"
          ],
          "name": "stdout"
        },
        {
          "output_type": "execute_result",
          "data": {
            "text/plain": [
              "[1.1885797004699707, 0.7076666668256124]"
            ]
          },
          "metadata": {
            "tags": []
          },
          "execution_count": 46
        }
      ]
    },
    {
      "cell_type": "code",
      "metadata": {
        "id": "E-BLh9Tt5Waq",
        "colab_type": "code",
        "colab": {}
      },
      "source": [
        "model.save('model1.h5')"
      ],
      "execution_count": 0,
      "outputs": []
    },
    {
      "cell_type": "code",
      "metadata": {
        "id": "_w8HEpNh-UY5",
        "colab_type": "code",
        "colab": {}
      },
      "source": [
        "from keras.models import load_model\n",
        "model=load_model('model1.h5')"
      ],
      "execution_count": 0,
      "outputs": []
    },
    {
      "cell_type": "code",
      "metadata": {
        "id": "QxsnY8qc_Isp",
        "colab_type": "code",
        "colab": {}
      },
      "source": [
        "import numpy as np\n",
        "\n",
        "def predict(data):\n",
        "  predict_class=model.predict_classes(xtest)\n",
        "  prob=model.predict_proba(data,batch_size=None)\n",
        "  return predict_class,prob"
      ],
      "execution_count": 0,
      "outputs": []
    },
    {
      "cell_type": "code",
      "metadata": {
        "colab_type": "code",
        "outputId": "fcd7834c-a695-41f8-8011-a3902be744d1",
        "id": "bG43BJocB8Fm",
        "colab": {
          "base_uri": "https://localhost:8080/",
          "height": 153
        }
      },
      "source": [
        "predict(xtest)"
      ],
      "execution_count": 54,
      "outputs": [
        {
          "output_type": "execute_result",
          "data": {
            "text/plain": [
              "(array([2, 1, 1, ..., 1, 2, 1]),\n",
              " array([[2.3504346e-05, 1.7291422e-04, 9.9980360e-01],\n",
              "        [9.6830074e-03, 9.8335326e-01, 6.9637676e-03],\n",
              "        [4.2182966e-03, 9.8989081e-01, 5.8908681e-03],\n",
              "        ...,\n",
              "        [4.6692677e-03, 9.8204160e-01, 1.3289125e-02],\n",
              "        [7.2705607e-06, 6.7732486e-05, 9.9992502e-01],\n",
              "        [4.0543345e-03, 7.4533373e-01, 2.5061193e-01]], dtype=float32))"
            ]
          },
          "metadata": {
            "tags": []
          },
          "execution_count": 54
        }
      ]
    },
    {
      "cell_type": "code",
      "metadata": {
        "id": "MGSqeuYhBtvB",
        "colab_type": "code",
        "colab": {}
      },
      "source": [
        ""
      ],
      "execution_count": 0,
      "outputs": []
    }
  ]
}